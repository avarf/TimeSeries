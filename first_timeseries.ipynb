{
 "cells": [
  {
   "cell_type": "code",
   "execution_count": 1,
   "metadata": {
    "collapsed": false
   },
   "outputs": [],
   "source": [
    "import sklearn\n",
    "import numpy as np\n",
    "import pandas as pd\n",
    "\n",
    "import matplotlib.pyplot as plt"
   ]
  },
  {
   "cell_type": "markdown",
   "metadata": {},
   "source": [
    "# Importing Data"
   ]
  },
  {
   "cell_type": "code",
   "execution_count": 2,
   "metadata": {
    "collapsed": false
   },
   "outputs": [],
   "source": [
    "data = pd.read_csv('Data/EURUSD_Candlestick_1_h_BID_09.01.2017-14.01.2017.csv',delimiter=',',header=None)\n",
    "npdata = np.asarray(data)"
   ]
  },
  {
   "cell_type": "code",
   "execution_count": 3,
   "metadata": {
    "collapsed": false
   },
   "outputs": [
    {
     "name": "stdout",
     "output_type": "stream",
     "text": [
      "(145, 6)\n",
      "[['Gmt time' 'Open' 'High' 'Low' 'Close' 'Volume']\n",
      " ['09.01.2017 00:00:00.000' '1.05294' '1.05358' '1.05224' '1.05350'\n",
      "  '6551.899999999998']]\n",
      "1.05350\n",
      "1.05294\n"
     ]
    }
   ],
   "source": [
    "print data.shape\n",
    "#print data.values\n",
    "print npdata[0:2,:]\n",
    "dataclose = npdata[1:120,4]\n",
    "dataopen = npdata[1:120,1]\n",
    "print dataclose[0]\n",
    "print dataopen[0]"
   ]
  },
  {
   "cell_type": "code",
   "execution_count": 4,
   "metadata": {
    "collapsed": false
   },
   "outputs": [],
   "source": [
    "%matplotlib qt\n",
    "plt.plot(dataclose,'ob',label='Close Price')\n",
    "plt.plot(dataopen,'or',label='Open Price')\n",
    "plt.legend(loc='best')\n",
    "plt.grid(True)\n",
    "#plt.show()"
   ]
  },
  {
   "cell_type": "markdown",
   "metadata": {},
   "source": [
    "# Forecasting"
   ]
  },
  {
   "cell_type": "code",
   "execution_count": 5,
   "metadata": {
    "collapsed": true
   },
   "outputs": [],
   "source": [
    "from sklearn.svm import SVR"
   ]
  },
  {
   "cell_type": "code",
   "execution_count": 32,
   "metadata": {
    "collapsed": false
   },
   "outputs": [
    {
     "name": "stdout",
     "output_type": "stream",
     "text": [
      "(100L, 1L)\n",
      "(20L, 1L)\n",
      "(100L, 1L)\n",
      "(20L, 1L)\n"
     ]
    }
   ],
   "source": [
    "ytrainclose = dataclose[:100]\n",
    "ytestclose = dataclose[99:]\n",
    "\n",
    "ytrainclose = ytrainclose.astype(np.float)\n",
    "ytestclose = ytestclose.astype(np.float)\n",
    "\n",
    "ytrainclose = ytrainclose - 1\n",
    "ytestclose = ytestclose -1\n",
    "\n",
    "xtrain = np.ones(len(ytrainclose))\n",
    "#xtrain[0] = 1.0540\n",
    "for i in range(1,len(xtrain)):\n",
    "    xtrain[i] = ytrainclose[i-1]\n",
    "\n",
    "xtest = np.ones(len(ytestclose))\n",
    "for i in range(1,len(xtest)):\n",
    "    xtest[i] = ytestclose[i-1]\n",
    "\n",
    "ytrainclose = ytrainclose.reshape((100,1))\n",
    "ytestclose = ytestclose.reshape((20,1))\n",
    "xtrain = xtrain.reshape((100,1))\n",
    "xtest = xtest.reshape((20,1))    \n",
    "\n",
    "print ytrainclose.shape\n",
    "print ytestclose.shape\n",
    "print xtrain.shape\n",
    "print xtest.shape"
   ]
  },
  {
   "cell_type": "code",
   "execution_count": 51,
   "metadata": {
    "collapsed": false
   },
   "outputs": [
    {
     "name": "stdout",
     "output_type": "stream",
     "text": [
      "[LibSVM]"
     ]
    }
   ],
   "source": [
    "clf = SVR(kernel='poly', C=1e3, gamma=0.01, verbose=True)\n",
    "clf.fit(xtrain,ytrainclose)\n",
    "pred = clf.predict(xtrain)"
   ]
  },
  {
   "cell_type": "code",
   "execution_count": 52,
   "metadata": {
    "collapsed": false
   },
   "outputs": [
    {
     "name": "stdout",
     "output_type": "stream",
     "text": [
      "\n",
      " Predicated: \n",
      "[ 0.057425  0.057425  0.057425  0.057425  0.057425  0.057425  0.057425\n",
      "  0.057425  0.057425  0.057425  0.057425  0.057425  0.057425  0.057425\n",
      "  0.057425  0.057425  0.057425  0.057425  0.057425  0.057425  0.057425\n",
      "  0.057425  0.057425  0.057425  0.057425  0.057425  0.057425  0.057425\n",
      "  0.057425  0.057425  0.057425  0.057425  0.057425  0.057425  0.057425\n",
      "  0.057425  0.057425  0.057425  0.057425  0.057425  0.057425  0.057425\n",
      "  0.057425  0.057425  0.057425  0.057425  0.057425  0.057425  0.057425\n",
      "  0.057425  0.057425  0.057425  0.057425  0.057425  0.057425  0.057425\n",
      "  0.057425  0.057425  0.057425  0.057425  0.057425  0.057425  0.057425\n",
      "  0.057425  0.057425  0.057425  0.057425  0.057425  0.057425  0.057425\n",
      "  0.057425  0.057425  0.057425  0.057425  0.057425  0.057425  0.057425\n",
      "  0.057425  0.057425  0.057425  0.057425  0.057425  0.057425  0.057425\n",
      "  0.057425  0.057425  0.057425  0.057425  0.057425  0.057425  0.057425\n",
      "  0.057425  0.057425  0.057425  0.057425  0.057425  0.057425  0.057425\n",
      "  0.057425  0.057425]\n"
     ]
    }
   ],
   "source": [
    "#print 'Real values: \\n', ytestclose\n",
    "print '\\n Predicated: \\n', pred\n",
    "#print clf.score()"
   ]
  },
  {
   "cell_type": "code",
   "execution_count": 53,
   "metadata": {
    "collapsed": false
   },
   "outputs": [],
   "source": [
    "%matplotlib qt\n",
    "plt.plot(ytrainclose,'-b',label='Real Price')\n",
    "plt.plot(pred,'-r',label='Predicated Price')\n",
    "plt.legend()\n",
    "plt.grid(True)"
   ]
  },
  {
   "cell_type": "code",
   "execution_count": 54,
   "metadata": {
    "collapsed": false
   },
   "outputs": [
    {
     "ename": "ImportError",
     "evalue": "No module named pybrain.structure",
     "output_type": "error",
     "traceback": [
      "\u001b[1;31m---------------------------------------------------------------------------\u001b[0m",
      "\u001b[1;31mImportError\u001b[0m                               Traceback (most recent call last)",
      "\u001b[1;32m<ipython-input-54-043c7075701f>\u001b[0m in \u001b[0;36m<module>\u001b[1;34m()\u001b[0m\n\u001b[1;32m----> 1\u001b[1;33m \u001b[1;32mfrom\u001b[0m \u001b[0mpybrain\u001b[0m\u001b[1;33m.\u001b[0m\u001b[0mstructure\u001b[0m \u001b[1;32mimport\u001b[0m \u001b[0mRecurrentNetwork\u001b[0m\u001b[1;33m\u001b[0m\u001b[0m\n\u001b[0m",
      "\u001b[1;31mImportError\u001b[0m: No module named pybrain.structure"
     ]
    }
   ],
   "source": []
  }
 ],
 "metadata": {
  "kernelspec": {
   "display_name": "Python 2",
   "language": "python",
   "name": "python2"
  },
  "language_info": {
   "codemirror_mode": {
    "name": "ipython",
    "version": 2
   },
   "file_extension": ".py",
   "mimetype": "text/x-python",
   "name": "python",
   "nbconvert_exporter": "python",
   "pygments_lexer": "ipython2",
   "version": "2.7.11"
  }
 },
 "nbformat": 4,
 "nbformat_minor": 0
}
