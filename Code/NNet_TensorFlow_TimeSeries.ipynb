{
 "cells": [
  {
   "cell_type": "markdown",
   "metadata": {},
   "source": [
    "# This Notebook"
   ]
  },
  {
   "cell_type": "markdown",
   "metadata": {},
   "source": [
    "#### This notebook is a tutorial for building a neural network in tensorflow and using it for predicting values in a timeseries"
   ]
  },
  {
   "cell_type": "code",
   "execution_count": 1,
   "metadata": {
    "collapsed": true
   },
   "outputs": [],
   "source": [
    "import tensorflow as tf\n",
    "import pandas as pd\n",
    "import numpy as np\n",
    "import matplotlib.pyplot as plt\n",
    "\n",
    "import csv"
   ]
  },
  {
   "cell_type": "code",
   "execution_count": 2,
   "metadata": {
    "collapsed": false
   },
   "outputs": [
    {
     "name": "stdout",
     "output_type": "stream",
     "text": [
      "Tensor(\"Mul:0\", shape=(), dtype=int32)\n",
      "Tensor(\"Mul_1:0\", shape=(), dtype=int32)\n",
      "30\n",
      "<type 'numpy.int32'>\n",
      "30\n",
      "<type 'numpy.int32'>\n"
     ]
    }
   ],
   "source": [
    "a = tf.constant(5)\n",
    "b = tf.constant(6)\n",
    "\n",
    "# for multipliction\n",
    "result = tf.multiply(a,b)\n",
    "print result\n",
    "\n",
    "ten_a = tf.constant([5])\n",
    "ten_b = tf.constant([6])\n",
    "\n",
    "result2 = tf.multiply(a,b)\n",
    "print result2\n",
    "\n",
    "# for running the tensorflow andseeing the results we need to run the tfsession\n",
    "sess = tf.Session()\n",
    "print sess.run(result)\n",
    "print type(sess.run(result))\n",
    "\n",
    "# save the result in a python variable\n",
    "output = sess.run(result)\n",
    "\n",
    "# at the end we need to close the session\n",
    "sess.close()\n",
    "\n",
    "print output\n",
    "print type(output)"
   ]
  },
  {
   "cell_type": "markdown",
   "metadata": {},
   "source": [
    "## Creating NNet"
   ]
  },
  {
   "cell_type": "markdown",
   "metadata": {},
   "source": [
    "## Importing Data"
   ]
  },
  {
   "cell_type": "markdown",
   "metadata": {},
   "source": [
    "## Training NNet"
   ]
  },
  {
   "cell_type": "markdown",
   "metadata": {
    "collapsed": true
   },
   "source": [
    "## Prediction"
   ]
  },
  {
   "cell_type": "code",
   "execution_count": null,
   "metadata": {
    "collapsed": true
   },
   "outputs": [],
   "source": []
  }
 ],
 "metadata": {
  "kernelspec": {
   "display_name": "Python [Root]",
   "language": "python",
   "name": "Python [Root]"
  },
  "language_info": {
   "codemirror_mode": {
    "name": "ipython",
    "version": 2
   },
   "file_extension": ".py",
   "mimetype": "text/x-python",
   "name": "python",
   "nbconvert_exporter": "python",
   "pygments_lexer": "ipython2",
   "version": "2.7.12"
  }
 },
 "nbformat": 4,
 "nbformat_minor": 0
}
