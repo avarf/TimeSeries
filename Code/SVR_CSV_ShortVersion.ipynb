{
 "cells": [
  {
   "cell_type": "code",
   "execution_count": null,
   "metadata": {
    "collapsed": true
   },
   "outputs": [],
   "source": [
    "import numpy as np\n",
    "import matplotlib.pyplot as plt"
   ]
  },
  {
   "cell_type": "code",
   "execution_count": 2,
   "metadata": {
    "collapsed": true
   },
   "outputs": [],
   "source": [
    "import csv"
   ]
  },
  {
   "cell_type": "code",
   "execution_count": 3,
   "metadata": {
    "collapsed": true
   },
   "outputs": [],
   "source": [
    "import sklearn as sk\n",
    "from sklearn.svm import SVR"
   ]
  },
  {
   "cell_type": "code",
   "execution_count": 5,
   "metadata": {
    "collapsed": false
   },
   "outputs": [],
   "source": [
    "dates = []\n",
    "prices = []"
   ]
  },
  {
   "cell_type": "code",
   "execution_count": 6,
   "metadata": {
    "collapsed": true
   },
   "outputs": [],
   "source": [
    "def get_data(filename):\n",
    "    with open(filename,'r') as csvfile:\n",
    "        csvFileReader = csv.reader(csvfile)\n",
    "        # we read each line/row with the \"next\" method\n",
    "        # we skip the first row because it is just heading\n",
    "        next(csvFileReader)\n",
    "        for row in csvFileReader:\n",
    "            # we append the close price to price list\n",
    "            # we can create any other list with the same syntax\n",
    "            prices.append(float(row[4]))\n",
    "    return"
   ]
  },
  {
   "cell_type": "markdown",
   "metadata": {},
   "source": [
    "# Prediction using SVR"
   ]
  },
  {
   "cell_type": "code",
   "execution_count": 7,
   "metadata": {
    "collapsed": true
   },
   "outputs": [],
   "source": [
    "# prediction using SVR\n",
    "#def predict_price(dates, prices, x):\n",
    "def predict_price(prices, x):\n",
    "    #dates = np.reshape(dates, (len(dates),1))\n",
    "    xaxis = range(len(prices))\n",
    "    xaxis = np.reshape(xaxis, (len(xaxis),1))\n",
    "    \n",
    "    #svr_lin = SVR(kernel='linear', C=1000000)\n",
    "    #svr_poly = SVR(kernel='poly', C=1000000, degree = 2)\n",
    "    #svr_rbf = SVR(kernel='rbf', C=10000000, gamma=0.001)\n",
    "\n",
    "    #svr_lin = SVR(kernel='linear', C=100000, epsilon=0.00001)\n",
    "    #svr_poly = SVR(kernel='poly', C=100000, epsilon=0.00001, degree = 2)\n",
    "    svr_rbf = SVR(kernel='rbf', C=100000, epsilon=0.00001, gamma=0.001)\n",
    "    \n",
    "    #svr_lin.fit(xaxis,prices)\n",
    "    #svr_poly.fit(xaxis,prices)\n",
    "    svr_rbf.fit(xaxis,prices)\n",
    "    \n",
    "    # In the original code it was Dates and not xaxis\n",
    "    plt.scatter(xaxis,prices,color='black', label='Data')\n",
    "    plt.plot(xaxis, svr_rbf.predict(xaxis), color='red',label='RBF Model')\n",
    "    #plt.plot(xaxis, svr_lin.predict(xaxis), color='green',label='Linear Model')\n",
    "    #plt.plot(xaxis, svr_poly.predict(xaxis), color='blue',label='Poly Model')\n",
    "    plt.ylabel('Price')\n",
    "    plt.title('Support Vector Regression')\n",
    "    plt.legend()\n",
    "    plt.show()\n",
    "    \n",
    "    #return svr_rbf.predict(x)[0],svr_lin.predict(x)[0],svr_poly.predict(x)[0]\n",
    "    return svr_rbf.predict(x)[0]"
   ]
  },
  {
   "cell_type": "code",
   "execution_count": null,
   "metadata": {
    "collapsed": false,
    "scrolled": true
   },
   "outputs": [
    {
     "name": "stdout",
     "output_type": "stream",
     "text": [
      "(119,)\n",
      "=========\n",
      "(119, 1)\n",
      "*****\n",
      "the original value of x:\n",
      "1.05462\n"
     ]
    },
    {
     "name": "stderr",
     "output_type": "stream",
     "text": [
      "/home/ali/anaconda2/lib/python2.7/site-packages/sklearn/utils/validation.py:526: DataConversionWarning: A column-vector y was passed when a 1d array was expected. Please change the shape of y to (n_samples, ), for example using ravel().\n",
      "  y = column_or_1d(y, warn=True)\n"
     ]
    }
   ],
   "source": [
    "prices = []\n",
    "get_data('Data/EURUSD_Candlestick_1_h_BID_09.01.2017-14.01.2017.csv')\n",
    "\n",
    "prices = prices[:119]\n",
    "prices = np.asarray(prices)\n",
    "print prices.shape\n",
    "print '========='\n",
    "\n",
    "reshprices = np.reshape(prices, (len(prices),1))\n",
    "print reshprices.shape\n",
    "print '*****'\n",
    "\n",
    "print 'the original value of x:'\n",
    "print prices[50]\n",
    "\n",
    "pred = predict_price(reshprices,50)\n",
    "#pred = predict_price(prices,50)\n",
    "print 'Predicted Prices:'\n",
    "print pred"
   ]
  }
 ],
 "metadata": {
  "kernelspec": {
   "display_name": "Python [Root]",
   "language": "python",
   "name": "Python [Root]"
  },
  "language_info": {
   "codemirror_mode": {
    "name": "ipython",
    "version": 2
   },
   "file_extension": ".py",
   "mimetype": "text/x-python",
   "name": "python",
   "nbconvert_exporter": "python",
   "pygments_lexer": "ipython2",
   "version": "2.7.12"
  }
 },
 "nbformat": 4,
 "nbformat_minor": 0
}
