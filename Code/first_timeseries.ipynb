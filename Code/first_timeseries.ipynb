{
 "cells": [
  {
   "cell_type": "markdown",
   "metadata": {},
   "source": [
    "# To Do:\n",
    "\n",
    "- implement cross validation on the rbf kernel to calculate the exact error"
   ]
  },
  {
   "cell_type": "markdown",
   "metadata": {},
   "source": [
    "# Resources:\n",
    "\n",
    "- https://calculatedcontent.com/2012/02/06/kernels_part_1/\n",
    "- https://calculatedcontent.com/2012/04/09/kernels-part-2-affine-quantum-gravity/ \n",
    "- https://calculatedcontent.com/2012/09/06/kernels-part-2-affine-quantum-gravity-continued/\n",
    "- http://stackoverflow.com/questions/34475245/sklearn-svm-svr-and-svc-getting-the-same-prediction-for-every-input\n",
    "- http://stackoverflow.com/questions/21393704/scikit-learn-svm-giving-me-zero-error-but-cant-predict?rq=1"
   ]
  },
  {
   "cell_type": "markdown",
   "metadata": {},
   "source": [
    "# Tips:\n",
    "\n",
    "- You should look to tune your C parameter using cross validation so that it is able to perform best on whichever metric matters most to you. You may want to look at GridSearchCV to help you do this.\n",
    "- http://stackoverflow.com/questions/15775727/time-series-prediction-using-support-vector-regression?noredirect=1&lq=1\n",
    "- For time series prediction I suggest building the training test set as\n",
    "\n",
    " x[0]=Y[0:K]; y[0]=Y[K]\n",
    " \n",
    " x[1]=Y[1:K+1]; y[1]=Y[K+1]\n",
    " ...\n",
    "\n",
    " that is, try to predict future elements of the sequence from a window of previous elements. \n",
    "- "
   ]
  },
  {
   "cell_type": "code",
   "execution_count": 1,
   "metadata": {
    "collapsed": false
   },
   "outputs": [],
   "source": [
    "import sklearn\n",
    "import numpy as np\n",
    "import pandas as pd\n",
    "\n",
    "import matplotlib.pyplot as plt"
   ]
  },
  {
   "cell_type": "markdown",
   "metadata": {},
   "source": [
    "# Importing Data"
   ]
  },
  {
   "cell_type": "code",
   "execution_count": 2,
   "metadata": {
    "collapsed": false
   },
   "outputs": [],
   "source": [
    "data = pd.read_csv('Data/EURUSD_Candlestick_1_h_BID_09.01.2017-14.01.2017.csv',delimiter=',',header=None)\n",
    "npdata = np.asarray(data)"
   ]
  },
  {
   "cell_type": "code",
   "execution_count": 3,
   "metadata": {
    "collapsed": false
   },
   "outputs": [
    {
     "name": "stdout",
     "output_type": "stream",
     "text": [
      "(145, 6)\n",
      "[['Gmt time' 'Open' 'High' 'Low' 'Close' 'Volume']\n",
      " ['09.01.2017 00:00:00.000' '1.05294' '1.05358' '1.05224' '1.05350'\n",
      "  '6551.899999999998']]\n",
      "1.05350\n",
      "1.05294\n"
     ]
    }
   ],
   "source": [
    "print data.shape\n",
    "#print data.values\n",
    "print npdata[0:2,:]\n",
    "dataclose = npdata[1:120,4]\n",
    "dataopen = npdata[1:120,1]\n",
    "print dataclose[0]\n",
    "print dataopen[0]"
   ]
  },
  {
   "cell_type": "code",
   "execution_count": 5,
   "metadata": {
    "collapsed": false
   },
   "outputs": [],
   "source": [
    "%matplotlib qt\n",
    "plt.plot(dataclose,'ob',label='Close Price')\n",
    "plt.plot(dataopen,'or',label='Open Price')\n",
    "plt.legend(loc='best')\n",
    "plt.grid(True)\n",
    "#plt.show()"
   ]
  },
  {
   "cell_type": "markdown",
   "metadata": {},
   "source": [
    "# Forecasting"
   ]
  },
  {
   "cell_type": "code",
   "execution_count": 4,
   "metadata": {
    "collapsed": true
   },
   "outputs": [],
   "source": [
    "from sklearn.svm import SVR"
   ]
  },
  {
   "cell_type": "code",
   "execution_count": 5,
   "metadata": {
    "collapsed": false,
    "scrolled": true
   },
   "outputs": [
    {
     "name": "stdout",
     "output_type": "stream",
     "text": [
      "(100L, 1L)\n",
      "(20L, 1L)\n",
      "(100L, 1L)\n",
      "(20L, 1L)\n"
     ]
    }
   ],
   "source": [
    "ytrainclose = dataclose[:100]\n",
    "ytestclose = dataclose[99:]\n",
    "\n",
    "ytrainclose = ytrainclose.astype(np.float)\n",
    "ytestclose = ytestclose.astype(np.float)\n",
    "\n",
    "ytrainclose = ytrainclose - 1\n",
    "ytestclose = ytestclose -1\n",
    "\n",
    "xtrain = np.ones(len(ytrainclose))\n",
    "#xtrain[0] = 1.0540\n",
    "for i in range(1,len(xtrain)):\n",
    "    xtrain[i] = ytrainclose[i-1]\n",
    "\n",
    "xtest = np.ones(len(ytestclose))\n",
    "for i in range(1,len(xtest)):\n",
    "    xtest[i] = ytestclose[i-1]\n",
    "\n",
    "ytrainclose = ytrainclose.reshape((100,1))\n",
    "ytestclose = ytestclose.reshape((20,1))\n",
    "xtrain = xtrain.reshape((100,1))\n",
    "xtest = xtest.reshape((20,1))    \n",
    "\n",
    "print ytrainclose.shape\n",
    "print ytestclose.shape\n",
    "print xtrain.shape\n",
    "print xtest.shape"
   ]
  },
  {
   "cell_type": "code",
   "execution_count": 46,
   "metadata": {
    "collapsed": false
   },
   "outputs": [
    {
     "name": "stdout",
     "output_type": "stream",
     "text": [
      "[LibSVM]"
     ]
    }
   ],
   "source": [
    "#Not working because C and epsilon are very different than what they should be\n",
    "# I have to read about C and epsilon\n",
    "clf = SVR(kernel='rbf', C=1e3, verbose=True)\n",
    "#clf.fit(xtrain,ytrainclose)\n",
    "pred = clf.fit(xtrain,ytrainclose).predict(xtrain)"
   ]
  },
  {
   "cell_type": "markdown",
   "metadata": {},
   "source": [
    "http://stackoverflow.com/questions/34475245/sklearn-svm-svr-and-svc-getting-the-same-prediction-for-every-input"
   ]
  },
  {
   "cell_type": "code",
   "execution_count": 72,
   "metadata": {
    "collapsed": false
   },
   "outputs": [],
   "source": [
    "regsvr = SVR(C=1000, epsilon=0.0001)\n",
    "pred2 = regsvr.fit(xtrain,ytrainclose).predict(xtest)"
   ]
  },
  {
   "cell_type": "code",
   "execution_count": 71,
   "metadata": {
    "collapsed": false
   },
   "outputs": [],
   "source": [
    "xtest[0] = 0.06"
   ]
  },
  {
   "cell_type": "code",
   "execution_count": 76,
   "metadata": {
    "collapsed": false
   },
   "outputs": [
    {
     "name": "stdout",
     "output_type": "stream",
     "text": [
      "xtest:  [[ 0.06   ]\n",
      " [ 0.06079]\n",
      " [ 0.06173]\n",
      " [ 0.06172]\n",
      " [ 0.06294]\n",
      " [ 0.06312]\n",
      " [ 0.06341]\n",
      " [ 0.06441]\n",
      " [ 0.0644 ]\n",
      " [ 0.06456]\n",
      " [ 0.06449]\n",
      " [ 0.06451]\n",
      " [ 0.06048]\n",
      " [ 0.06231]\n",
      " [ 0.06243]\n",
      " [ 0.06372]\n",
      " [ 0.06321]\n",
      " [ 0.06437]\n",
      " [ 0.06369]\n",
      " [ 0.0642 ]]\n",
      "\n",
      " Predicated: \n",
      "[ 0.05952686  0.06032035  0.06126489  0.06125484  0.06248136  0.06266238\n",
      "  0.06295405  0.06396014  0.06395007  0.06411109  0.06404064  0.06406077\n",
      "  0.06000894  0.0618479   0.06196855  0.06326589  0.06275289  0.06391988\n",
      "  0.06323571  0.06374882]\n",
      "ytest:  [[ 0.06079]\n",
      " [ 0.06173]\n",
      " [ 0.06172]\n",
      " [ 0.06294]\n",
      " [ 0.06312]\n",
      " [ 0.06341]\n",
      " [ 0.06441]\n",
      " [ 0.0644 ]\n",
      " [ 0.06456]\n",
      " [ 0.06449]\n",
      " [ 0.06451]\n",
      " [ 0.06048]\n",
      " [ 0.06231]\n",
      " [ 0.06243]\n",
      " [ 0.06372]\n",
      " [ 0.06321]\n",
      " [ 0.06437]\n",
      " [ 0.06369]\n",
      " [ 0.0642 ]\n",
      " [ 0.0642 ]]\n"
     ]
    }
   ],
   "source": [
    "#print 'Real values: \\n', ytestclose\n",
    "print 'xtest: ', xtest\n",
    "print '\\n Predicated: \\n', pred2\n",
    "#print clf.score()\n",
    "print 'ytest: ', ytestclose"
   ]
  },
  {
   "cell_type": "code",
   "execution_count": 77,
   "metadata": {
    "collapsed": false
   },
   "outputs": [],
   "source": [
    "%matplotlib qt\n",
    "#plt.plot(ytrainclose,'-b',label='Real Price')\n",
    "plt.plot(ytestclose,'-b',label='Real Price')\n",
    "plt.plot(pred2,'-r',label='Predicated Price')\n",
    "plt.legend()\n",
    "plt.grid(True)"
   ]
  },
  {
   "cell_type": "markdown",
   "metadata": {},
   "source": [
    "### Linear Kernel - Bad Results"
   ]
  },
  {
   "cell_type": "code",
   "execution_count": 6,
   "metadata": {
    "collapsed": false
   },
   "outputs": [
    {
     "name": "stderr",
     "output_type": "stream",
     "text": [
      "C:\\Anaconda2\\lib\\site-packages\\sklearn\\utils\\validation.py:526: DataConversionWarning: A column-vector y was passed when a 1d array was expected. Please change the shape of y to (n_samples, ), for example using ravel().\n",
      "  y = column_or_1d(y, warn=True)\n"
     ]
    }
   ],
   "source": [
    "regsvr_lin = SVR(kernel='linear',C=1000, epsilon=0.0001)\n",
    "linpred = regsvr_lin.fit(xtrain,ytrainclose).predict(xtest)"
   ]
  },
  {
   "cell_type": "code",
   "execution_count": 7,
   "metadata": {
    "collapsed": false
   },
   "outputs": [
    {
     "data": {
      "text/plain": [
       "array([ 0.05347797,  0.05761262,  0.05760848,  0.05760853,  0.05760316,\n",
       "        0.05760236,  0.05760109,  0.05759669,  0.05759673,  0.05759602,\n",
       "        0.05759633,  0.05759625,  0.05761399,  0.05760593,  0.0576054 ,\n",
       "        0.05759972,  0.05760197,  0.05759686,  0.05759985,  0.05759761])"
      ]
     },
     "execution_count": 7,
     "metadata": {},
     "output_type": "execute_result"
    }
   ],
   "source": [
    "linpred"
   ]
  },
  {
   "cell_type": "code",
   "execution_count": 8,
   "metadata": {
    "collapsed": false
   },
   "outputs": [],
   "source": [
    "%matplotlib qt\n",
    "\n",
    "#plt.plot(ytrainclose,'-b',label='Real Price')\n",
    "plt.plot(ytestclose,'-b',label='Real Price')\n",
    "plt.plot(linpred,'-r',label='Predicated Price')\n",
    "plt.legend()\n",
    "plt.grid(True)"
   ]
  },
  {
   "cell_type": "markdown",
   "metadata": {},
   "source": [
    "### Poly Kernel - Bad Results"
   ]
  },
  {
   "cell_type": "code",
   "execution_count": 9,
   "metadata": {
    "collapsed": true
   },
   "outputs": [],
   "source": [
    "regsvr_poly = SVR(kernel='poly',C=1000, epsilon=0.0001)\n",
    "polypred = regsvr_poly.fit(xtrain,ytrainclose).predict(xtest)"
   ]
  },
  {
   "cell_type": "code",
   "execution_count": 10,
   "metadata": {
    "collapsed": false
   },
   "outputs": [
    {
     "data": {
      "text/plain": [
       "array([ 0.05359995,  0.05773998,  0.05773994,  0.05773994,  0.05773988,\n",
       "        0.05773987,  0.05773985,  0.0577398 ,  0.0577398 ,  0.0577398 ,\n",
       "        0.0577398 ,  0.0577398 ,  0.05773999,  0.05773991,  0.0577399 ,\n",
       "        0.05773984,  0.05773986,  0.05773981,  0.05773984,  0.05773981])"
      ]
     },
     "execution_count": 10,
     "metadata": {},
     "output_type": "execute_result"
    }
   ],
   "source": [
    "polypred"
   ]
  },
  {
   "cell_type": "code",
   "execution_count": 11,
   "metadata": {
    "collapsed": true
   },
   "outputs": [],
   "source": [
    "%matplotlib qt\n",
    "\n",
    "#plt.plot(ytrainclose,'-b',label='Real Price')\n",
    "plt.plot(ytestclose,'-b',label='Real Price')\n",
    "plt.plot(polypred,'-r',label='Predicated Price')\n",
    "plt.legend()\n",
    "plt.grid(True)"
   ]
  }
 ],
 "metadata": {
  "kernelspec": {
   "display_name": "Python 2",
   "language": "python",
   "name": "python2"
  },
  "language_info": {
   "codemirror_mode": {
    "name": "ipython",
    "version": 2
   },
   "file_extension": ".py",
   "mimetype": "text/x-python",
   "name": "python",
   "nbconvert_exporter": "python",
   "pygments_lexer": "ipython2",
   "version": "2.7.11"
  }
 },
 "nbformat": 4,
 "nbformat_minor": 0
}
