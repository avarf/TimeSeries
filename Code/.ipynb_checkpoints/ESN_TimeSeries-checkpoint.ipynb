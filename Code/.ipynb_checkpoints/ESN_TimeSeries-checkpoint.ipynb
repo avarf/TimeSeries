{
 "cells": [
  {
   "cell_type": "code",
   "execution_count": 3,
   "metadata": {
    "collapsed": true
   },
   "outputs": [],
   "source": [
    "import numpy as np\n",
    "from numpy import *\n",
    "import matplotlib.pyplot as plt\n",
    "import scipy.linalg\n",
    "from matplotlib.pyplot import *\n",
    "import pandas as pd"
   ]
  },
  {
   "cell_type": "markdown",
   "metadata": {},
   "source": [
    "# Load Data"
   ]
  },
  {
   "cell_type": "code",
   "execution_count": 4,
   "metadata": {
    "collapsed": false
   },
   "outputs": [
    {
     "name": "stdout",
     "output_type": "stream",
     "text": [
      "(145, 6)\n",
      "[['Gmt time' 'Open' 'High' 'Low' 'Close' 'Volume']\n",
      " ['09.01.2017 00:00:00.000' '1.05294' '1.05358' '1.05224' '1.05350'\n",
      "  '6551.899999999998']]\n",
      "1.05350\n",
      "1.05294\n",
      "(100L, 1L)\n",
      "(20L, 1L)\n",
      "(100L, 1L)\n",
      "(20L, 1L)\n"
     ]
    }
   ],
   "source": [
    "data = pd.read_csv('Data/EURUSD_Candlestick_1_h_BID_09.01.2017-14.01.2017.csv',delimiter=',',header=None)\n",
    "npdata = np.asarray(data)\n",
    "\n",
    "print data.shape\n",
    "#print data.values\n",
    "print npdata[0:2,:]\n",
    "dataclose = npdata[1:120,4]\n",
    "dataopen = npdata[1:120,1]\n",
    "print dataclose[0]\n",
    "print dataopen[0]\n",
    "\n",
    "ytrainclose = dataclose[:100]\n",
    "ytestclose = dataclose[99:]\n",
    "\n",
    "ytrainclose = ytrainclose.astype(np.float)\n",
    "ytestclose = ytestclose.astype(np.float)\n",
    "\n",
    "ytrainclose = ytrainclose - 1\n",
    "ytestclose = ytestclose -1\n",
    "\n",
    "xtrain = np.ones(len(ytrainclose))\n",
    "#xtrain[0] = 1.0540\n",
    "for i in range(1,len(xtrain)):\n",
    "    xtrain[i] = ytrainclose[i-1]\n",
    "\n",
    "xtest = np.ones(len(ytestclose))\n",
    "for i in range(1,len(xtest)):\n",
    "    xtest[i] = ytestclose[i-1]\n",
    "\n",
    "ytrainclose = ytrainclose.reshape((100,1))\n",
    "ytestclose = ytestclose.reshape((20,1))\n",
    "xtrain = xtrain.reshape((100,1))\n",
    "xtest = xtest.reshape((20,1))    \n",
    "\n",
    "print ytrainclose.shape\n",
    "print ytestclose.shape\n",
    "print xtrain.shape\n",
    "print xtest.shape"
   ]
  },
  {
   "cell_type": "code",
   "execution_count": null,
   "metadata": {
    "collapsed": true
   },
   "outputs": [],
   "source": [
    "# load the data\n",
    "trainLen = 200\n",
    "testLen = 200\n",
    "initLen = 100\n",
    "data = ycos\n",
    "figure(10).clear()\n",
    "\n",
    "\n",
    "\n",
    "# generate the ESN reservoir\n",
    "inSize = outSize = 1\n",
    "resSize = 1000\n",
    "a = 0.3 # leaking rate\n",
    "random.seed(42)\n",
    "Win = (random.rand(resSize,1+inSize)-0.5) * 1\n",
    "W = random.rand(resSize,resSize)-0.5\n",
    "# normalizing and setting spectral radius (correct, slow):\n",
    "print 'Computing spectral radius...',\n",
    "rhoW = max(abs(linalg.eig(W)[0]))\n",
    "W *= 1.25 / rhoW\n",
    "# allocated memory for the design (collected states) matrix\n",
    "#X = zeros((1+inSize+resSize,trainLen-initLen))\n",
    "X = zeros((1+inSize+resSize,trainLen-initLen))\n",
    "# set the corresponding target matrix directly\n",
    "Yt = data[None,initLen+1:trainLen+1]\n",
    "\n",
    "\n",
    "\n",
    "run the reservoir with the data and collect X\n",
    "x = zeros((resSize,1))\n",
    "for t in range(trainLen):\n",
    "    u = data[t]\n",
    "    x = (1-a)*x + a*tanh( dot( Win, vstack((1,u)) ) + dot( W, x ) )\n",
    "    if t >= initLen:\n",
    "        X[:,t-initLen] = vstack((1,u,x))[:,0]\n",
    "\n",
    "# train the output\n",
    "reg = 1e-8 # regularization coefficient\n",
    "X_T = X.T\n",
    "Wout = dot( dot(Yt,X_T), linalg.inv( dot(X,X_T) + \\\n",
    "                                    reg*eye(1+inSize+resSize) ) )\n",
    "\n",
    "# run the trained ESN in a generative mode. no need to initialize here,\n",
    "# because x is initialized with training data and we continue from there.\n",
    "Y = zeros((outSize,testLen))\n",
    "u = data[trainLen]\n",
    "for t in range(testLen):\n",
    "    x = (1-a)*x + a*tanh( dot( Win, vstack((1,u)) ) + dot( W, x ) )\n",
    "    y = dot( Wout, vstack((1,u,x)) )\n",
    "    Y[:,t] = y\n",
    "    u = y\n",
    "\n",
    "# plot some signals\n",
    "figure(1).clear()\n",
    "plot(data,'g')\n",
    "plot( Y.T, 'b' )\n",
    "title('Target and generated signals $y(n)$ starting at $n=0$')\n",
    "legend(['Target signal', 'Predicted signal'])\n",
    "\n",
    "figure(2).clear()\n",
    "plot( X[0:20,0:200].T )\n",
    "title('Some reservoir activations $\\mathbf{x}(n)$')\n",
    "\n",
    "figure(3).clear()\n",
    "bar( range(1+inSize+resSize), Wout.T )\n",
    "title('Output weights $\\mathbf{W}^{out}$')\n",
    "show()"
   ]
  }
 ],
 "metadata": {
  "kernelspec": {
   "display_name": "Python 2",
   "language": "python",
   "name": "python2"
  },
  "language_info": {
   "codemirror_mode": {
    "name": "ipython",
    "version": 2
   },
   "file_extension": ".py",
   "mimetype": "text/x-python",
   "name": "python",
   "nbconvert_exporter": "python",
   "pygments_lexer": "ipython2",
   "version": "2.7.11"
  }
 },
 "nbformat": 4,
 "nbformat_minor": 0
}
